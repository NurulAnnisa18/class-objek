{
  "cells": [
    {
      "cell_type": "markdown",
      "source": [],
      "metadata": {
        "id": "IFeqfcNlYffc"
      }
    },
    {
      "cell_type": "code",
      "source": [
        "# Class Variable\n",
        "class person:\n",
        "\n",
        "# the init method or constructor\n",
        " def __init__(self, rambut, warna):\n",
        "\n",
        "  #instance Variable\n",
        "  self.rambut= rambut\n",
        "  self.warna= warna\n",
        "\n",
        "#objects\n",
        "Budi = person(\"ikal\", \"hitam\")\n",
        "Michael = person(\"lurus\", \"pirang\")\n",
        "\n",
        "print('Budi details:')\n",
        "print('rambut: ', Budi.rambut)\n",
        "print('warna rambut:', Budi.warna)\n",
        "\n",
        "print(\"\\nMichael details:\")\n",
        "print('rambut:', Michael.rambut)\n",
        "print('warna rambut:', Michael.warna)"
      ],
      "metadata": {
        "colab": {
          "base_uri": "https://localhost:8080/"
        },
        "id": "C4Fwk0slYScT",
        "outputId": "4c9a8534-ac47-44ef-f3cd-b8532341286f"
      },
      "execution_count": 5,
      "outputs": [
        {
          "output_type": "stream",
          "name": "stdout",
          "text": [
            "Budi details:\n",
            "rambut:  ikal\n",
            "warna rambut: hitam\n",
            "\n",
            "Michael details:\n",
            "rambut: lurus\n",
            "warna rambut: pirang\n"
          ]
        }
      ]
    }
  ],
  "metadata": {
    "colab": {
      "name": "Selamat Datang di Colab",
      "provenance": []
    },
    "kernelspec": {
      "display_name": "Python 3",
      "name": "python3"
    }
  },
  "nbformat": 4,
  "nbformat_minor": 0
}